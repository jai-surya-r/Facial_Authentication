{
  "cells": [
    {
      "cell_type": "code",
      "execution_count": 1,
      "id": "6e5b7a00",
      "metadata": {
        "id": "6e5b7a00"
      },
      "outputs": [],
      "source": [
        "import cv2\n",
        "import tensorflow as tf\n",
        "import numpy as np\n",
        "import matplotlib.pyplot as plt\n",
        "from tensorflow.keras.preprocessing import image\n",
        "from tensorflow.keras.preprocessing.image import ImageDataGenerator\n",
        "from tensorflow.keras.models import Model\n",
        "from tensorflow.keras.layers import Input, Dense, Flatten, Conv2D, MaxPooling2D, BatchNormalization, Dropout, LeakyReLU\n",
        "from tensorflow.keras.optimizers import Adam\n",
        "from tensorflow.keras.models import load_model"
      ]
    },
    {
      "cell_type": "code",
      "source": [
        "!mkdir ~/.kaggle\n",
        "!cp kaggle.json ~/.kaggle/\n",
        "!chmod 600 ~/.kaggle/kaggle.json"
      ],
      "metadata": {
        "id": "TkO2g5mvM2Ar"
      },
      "id": "TkO2g5mvM2Ar",
      "execution_count": 2,
      "outputs": []
    },
    {
      "cell_type": "code",
      "source": [
        "!kaggle datasets download -d manjilkarki/deepfake-and-real-images"
      ],
      "metadata": {
        "colab": {
          "base_uri": "https://localhost:8080/"
        },
        "id": "JrZPIbDxM9Ub",
        "outputId": "adcca8fd-1f2b-4fda-fd08-78145fea6dd3"
      },
      "id": "JrZPIbDxM9Ub",
      "execution_count": 3,
      "outputs": [
        {
          "output_type": "stream",
          "name": "stdout",
          "text": [
            "Downloading deepfake-and-real-images.zip to /content\n",
            "100% 1.68G/1.68G [00:18<00:00, 92.4MB/s]\n",
            "100% 1.68G/1.68G [00:18<00:00, 96.4MB/s]\n"
          ]
        }
      ]
    },
    {
      "cell_type": "code",
      "source": [
        "!unzip deepfake-and-real-images.zip"
      ],
      "metadata": {
        "id": "liIn4DJJNRPj"
      },
      "id": "liIn4DJJNRPj",
      "execution_count": null,
      "outputs": []
    },
    {
      "cell_type": "code",
      "source": [
        "IMGWIDTH = 256\n",
        "\n",
        "class MesoNet:\n",
        "    def __init__(self):\n",
        "        self.model = self.build_model()\n",
        "\n",
        "    def build_model(self):\n",
        "        x = Input(shape=(IMGWIDTH, IMGWIDTH, 3))\n",
        "\n",
        "        x1 = Conv2D(8, (3, 3), padding='same', activation='relu')(x)\n",
        "        x1 = BatchNormalization()(x1)\n",
        "        x1 = MaxPooling2D(pool_size=(2, 2), padding='same')(x1)\n",
        "\n",
        "        x2 = Conv2D(8, (5, 5), padding='same', activation='relu')(x1)\n",
        "        x2 = BatchNormalization()(x2)\n",
        "        x2 = MaxPooling2D(pool_size=(2, 2), padding='same')(x2)\n",
        "\n",
        "        x3 = Conv2D(16, (5, 5), padding='same', activation='relu')(x2)\n",
        "        x3 = BatchNormalization()(x3)\n",
        "        x3 = MaxPooling2D(pool_size=(2, 2), padding='same')(x3)\n",
        "\n",
        "        x4 = Conv2D(16, (5, 5), padding='same', activation='relu')(x3)\n",
        "        x4 = BatchNormalization()(x4)\n",
        "        x4 = MaxPooling2D(pool_size=(4, 4), padding='same')(x4)\n",
        "\n",
        "        y = Flatten()(x4)\n",
        "        y = Dropout(0.5)(y)\n",
        "        y = Dense(16)(y)\n",
        "        y = LeakyReLU(alpha=0.1)(y)\n",
        "        y = Dropout(0.5)(y)\n",
        "        y = Dense(1, activation='sigmoid')(y)\n",
        "\n",
        "        model = Model(inputs=x, outputs=y)\n",
        "        model.compile(optimizer='adam', loss='binary_crossentropy', metrics=['accuracy'])\n",
        "        return model\n",
        "\n",
        "    def train(self, x_train, validation_generator, epochs):\n",
        "        self.model.fit(x_train, validation_data=validation_generator, epochs=epochs, verbose=1)\n",
        "\n",
        "    def predict_batch(self, x):\n",
        "        return self.model.predict(x)\n",
        "\n",
        "    def predict_single(self, img):\n",
        "        img = cv2.resize(img, (256, 256))\n",
        "        img = img / 255.0\n",
        "        img = np.expand_dims(img, axis=0)\n",
        "        return self.model.predict(img)\n",
        "\n",
        "    def evaluate_accuracy(self, x_test):\n",
        "        self.model.evaluate(x_test, verbose=1, max_queue_size=20)\n",
        "\n",
        "    def save_model(self, filepath):\n",
        "        self.model.save(filepath)\n",
        "\n",
        "    def load_model(self, filepath):\n",
        "        self.model = load_model(filepath)"
      ],
      "metadata": {
        "id": "AJTX_Fc-6nmH"
      },
      "id": "AJTX_Fc-6nmH",
      "execution_count": 9,
      "outputs": []
    },
    {
      "cell_type": "code",
      "execution_count": 7,
      "id": "0a37153a",
      "metadata": {
        "colab": {
          "base_uri": "https://localhost:8080/"
        },
        "id": "0a37153a",
        "outputId": "3e7fc55f-4ba7-4087-82f7-e19399d31e83"
      },
      "outputs": [
        {
          "output_type": "stream",
          "name": "stdout",
          "text": [
            "Found 140002 images belonging to 2 classes.\n",
            "Found 39428 images belonging to 2 classes.\n",
            "Found 10905 images belonging to 2 classes.\n"
          ]
        }
      ],
      "source": [
        "# Define paths\n",
        "train_path = '/content/Dataset/Train'\n",
        "valid_path = '/content/Dataset/Validation'\n",
        "test_path = '/content/Dataset/Test'\n",
        "\n",
        "# Data generators with augmentation\n",
        "train_datagen = ImageDataGenerator(rescale=1./255)\n",
        "\n",
        "train_generator = train_datagen.flow_from_directory(\n",
        "    train_path,\n",
        "    target_size=(IMGWIDTH, IMGWIDTH),\n",
        "    batch_size=64,\n",
        "    class_mode='binary'\n",
        ")\n",
        "\n",
        "valid_datagen = ImageDataGenerator(rescale=1./255)\n",
        "\n",
        "valid_generator = valid_datagen.flow_from_directory(\n",
        "    valid_path,\n",
        "    target_size=(IMGWIDTH, IMGWIDTH),\n",
        "    batch_size=64,\n",
        "    class_mode='binary'\n",
        ")\n",
        "\n",
        "test_datagen = ImageDataGenerator(rescale=1./255)\n",
        "\n",
        "test_generator = test_datagen.flow_from_directory(\n",
        "    test_path,\n",
        "    target_size=(IMGWIDTH, IMGWIDTH),\n",
        "    batch_size=64,\n",
        "    class_mode='binary'\n",
        ")"
      ]
    },
    {
      "cell_type": "code",
      "execution_count": null,
      "id": "56643d9b",
      "metadata": {
        "id": "56643d9b"
      },
      "outputs": [],
      "source": [
        "# Load or instantiate model\n",
        "model = MesoNet()\n",
        "history = model.train(train_generator, valid_generator, epochs=2)"
      ]
    },
    {
      "cell_type": "code",
      "source": [
        "model.save_model(\"Meso4.h5\")"
      ],
      "metadata": {
        "id": "rKg-Bs9vBAPG",
        "colab": {
          "base_uri": "https://localhost:8080/"
        },
        "outputId": "6fa843be-d191-47b8-e6f0-6bff3446eff8"
      },
      "id": "rKg-Bs9vBAPG",
      "execution_count": 12,
      "outputs": [
        {
          "output_type": "stream",
          "name": "stderr",
          "text": [
            "/usr/local/lib/python3.10/dist-packages/keras/src/engine/training.py:3103: UserWarning: You are saving your model as an HDF5 file via `model.save()`. This file format is considered legacy. We recommend using instead the native Keras format, e.g. `model.save('my_model.keras')`.\n",
            "  saving_api.save_model(\n"
          ]
        }
      ]
    },
    {
      "cell_type": "code",
      "execution_count": null,
      "id": "7a8e1b50",
      "metadata": {
        "id": "7a8e1b50"
      },
      "outputs": [],
      "source": [
        "accuracy = model.evaluate_accuracy(test_generator)\n",
        "print(\"Test Accuracy:\", accuracy)"
      ]
    },
    {
      "cell_type": "code",
      "source": [
        "import matplotlib.pyplot as plt\n",
        "\n",
        "def visualize_data(model, data_generator, num_samples=5):\n",
        "    sample_images, sample_labels = data_generator.next()\n",
        "    predictions = model.predict_single(sample_images)\n",
        "\n",
        "    plt.figure(figsize=(15, 8))\n",
        "    for i in range(num_samples):\n",
        "        plt.subplot(1, num_samples, i + 1)\n",
        "        plt.imshow(sample_images[i])\n",
        "        plt.title(f\"Predicted: {predictions[i][0]:.2f}, Actual: {sample_labels[i]}\")\n",
        "        plt.axis('off')\n",
        "    plt.show()\n",
        "\n",
        "# Usage example\n",
        "visualize_data(model, test_generator, num_samples=5)"
      ],
      "metadata": {
        "id": "gXPEWKn9x-09"
      },
      "id": "gXPEWKn9x-09",
      "execution_count": null,
      "outputs": []
    },
    {
      "cell_type": "code",
      "source": [
        "img_path = \"\"\n",
        "prediction = model.predict_single(img_path)\n",
        "\n",
        "print(f\"Prediction score: {prediction}\")\n",
        "print(\"REAL\") if (prediction > 0.6) else print(\"FAKE\")"
      ],
      "metadata": {
        "id": "0pcx100LFd_u"
      },
      "id": "0pcx100LFd_u",
      "execution_count": null,
      "outputs": []
    }
  ],
  "metadata": {
    "kernelspec": {
      "display_name": "Python 3",
      "name": "python3"
    },
    "language_info": {
      "codemirror_mode": {
        "name": "ipython",
        "version": 3
      },
      "file_extension": ".py",
      "mimetype": "text/x-python",
      "name": "python",
      "nbconvert_exporter": "python",
      "pygments_lexer": "ipython3",
      "version": "3.9.13"
    },
    "colab": {
      "provenance": []
    }
  },
  "nbformat": 4,
  "nbformat_minor": 5
}